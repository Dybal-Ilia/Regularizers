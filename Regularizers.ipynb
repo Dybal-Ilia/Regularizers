{
 "cells": [
  {
   "cell_type": "code",
   "execution_count": 1,
   "id": "1dc75c28-a524-472c-b64f-d46d76ef9b79",
   "metadata": {},
   "outputs": [],
   "source": [
    "import numpy as np\n",
    "from sklearn.linear_model import Lasso, Ridge, LinearRegression, ElasticNet\n",
    "from sklearn.model_selection import train_test_split\n",
    "from sklearn.datasets import make_regression\n",
    "import matplotlib.pyplot as plt\n",
    "from sklearn.metrics import mean_absolute_error"
   ]
  },
  {
   "cell_type": "code",
   "execution_count": 2,
   "id": "1b608817-3071-41bb-a73a-919d4250ba86",
   "metadata": {},
   "outputs": [],
   "source": [
    "X, y = make_regression(n_samples=1000, n_features=20, noise=1, random_state=42)"
   ]
  },
  {
   "cell_type": "code",
   "execution_count": 3,
   "id": "5796125e-68d7-438e-8472-26df5384d3bf",
   "metadata": {},
   "outputs": [],
   "source": [
    "X_train, X_test, y_train, y_test = train_test_split(X, y, test_size = 0.3, random_state = 42)"
   ]
  },
  {
   "cell_type": "code",
   "execution_count": 4,
   "id": "008f4712-45b9-4cfe-a33a-532579294956",
   "metadata": {},
   "outputs": [
    {
     "name": "stdout",
     "output_type": "stream",
     "text": [
      "Значение коэффициента 1 = 79.99721499539766\n",
      "Значение коэффициента 2 = 98.60255566766965\n",
      "Значение коэффициента 3 = 5.574311571811113\n",
      "Значение коэффициента 4 = 0.024366261820424673\n",
      "Значение коэффициента 5 = 86.47031081069855\n",
      "Значение коэффициента 6 = -0.038856440662028625\n",
      "Значение коэффициента 7 = 69.44313605247059\n",
      "Значение коэффициента 8 = -0.0032897671251337704\n",
      "Значение коэффициента 9 = 0.025335548859234905\n",
      "Значение коэффициента 10 = -0.03125816420365754\n",
      "Значение коэффициента 11 = 18.622089807788207\n",
      "Значение коэффициента 12 = 39.65606525711403\n",
      "Значение коэффициента 13 = 0.0034327474000962217\n",
      "Значение коэффициента 14 = 3.109185206996244\n",
      "Значение коэффициента 15 = -0.04409409675401482\n",
      "Значение коэффициента 16 = 26.387241100069875\n",
      "Значение коэффициента 17 = -0.022060393831879382\n",
      "Значение коэффициента 18 = 86.89833829318601\n",
      "Значение коэффициента 19 = 0.035462294258335914\n",
      "Значение коэффициента 20 = 0.014051012296999232\n"
     ]
    }
   ],
   "source": [
    "model = LinearRegression()\n",
    "model.fit(X, y)\n",
    "for index, coef in enumerate(model.coef_):\n",
    "    print(f'Значение коэффициента {index + 1} = {coef}')"
   ]
  },
  {
   "cell_type": "code",
   "execution_count": 133,
   "id": "fb989c3a-3c03-4a82-866c-5dfecd0f0448",
   "metadata": {},
   "outputs": [],
   "source": [
    "y_pred = model.predict(X_test)"
   ]
  },
  {
   "cell_type": "code",
   "execution_count": 134,
   "id": "ac5ac64e-b46e-4d6b-a6c0-4614c89aa593",
   "metadata": {},
   "outputs": [
    {
     "data": {
      "text/plain": [
       "0.8221939829433599"
      ]
     },
     "execution_count": 134,
     "metadata": {},
     "output_type": "execute_result"
    }
   ],
   "source": [
    "mean_absolute_error(y_test, y_pred)"
   ]
  },
  {
   "cell_type": "code",
   "execution_count": 5,
   "id": "221d97d9-ec24-4295-8335-a66af6dd177d",
   "metadata": {},
   "outputs": [
    {
     "name": "stdout",
     "output_type": "stream",
     "text": [
      "Значение коэффициента 1 = 79.10167344313605\n",
      "Значение коэффициента 2 = 97.57496916810291\n",
      "Значение коэффициента 3 = 4.617674201452585\n",
      "Значение коэффициента 4 = 0.0\n",
      "Значение коэффициента 5 = 85.3481897495727\n",
      "Значение коэффициента 6 = -0.0\n",
      "Значение коэффициента 7 = 68.34848719078207\n",
      "Значение коэффициента 8 = -0.0\n",
      "Значение коэффициента 9 = -0.0\n",
      "Значение коэффициента 10 = -0.0\n",
      "Значение коэффициента 11 = 17.518156039303623\n",
      "Значение коэффициента 12 = 38.630563694656026\n",
      "Значение коэффициента 13 = -0.0\n",
      "Значение коэффициента 14 = 1.8842991489733292\n",
      "Значение коэффициента 15 = 0.0\n",
      "Значение коэффициента 16 = 25.33225410160849\n",
      "Значение коэффициента 17 = -0.0\n",
      "Значение коэффициента 18 = 85.91066692019102\n",
      "Значение коэффициента 19 = 0.0\n",
      "Значение коэффициента 20 = 0.0\n"
     ]
    }
   ],
   "source": [
    "model = Lasso()\n",
    "model.fit(X, y)\n",
    "for index, coef in enumerate(model.coef_):\n",
    "    print(f'Значение коэффициента {index + 1} = {coef}')"
   ]
  },
  {
   "cell_type": "code",
   "execution_count": 6,
   "id": "f7777396-ff05-4789-8c74-fffcd3ad239e",
   "metadata": {},
   "outputs": [],
   "source": [
    "y_pred = model.predict(X_test)"
   ]
  },
  {
   "cell_type": "code",
   "execution_count": 7,
   "id": "e76eef1c-1e1d-4d55-ad25-15f9a69f70aa",
   "metadata": {},
   "outputs": [
    {
     "data": {
      "text/plain": [
       "2.6772576606106395"
      ]
     },
     "execution_count": 7,
     "metadata": {},
     "output_type": "execute_result"
    }
   ],
   "source": [
    "mean_absolute_error(y_test, y_pred)"
   ]
  },
  {
   "cell_type": "code",
   "execution_count": 8,
   "id": "06b55b77-67a1-4f7b-b1e4-cb7ed0e35771",
   "metadata": {},
   "outputs": [
    {
     "name": "stdout",
     "output_type": "stream",
     "text": [
      "Значение коэффициента 1 = 79.92086267285201\n",
      "Значение коэффициента 2 = 98.49749924029612\n",
      "Значение коэффициента 3 = 5.56859469578104\n",
      "Значение коэффициента 4 = 0.029082316496922382\n",
      "Значение коэффициента 5 = 86.38095995056221\n",
      "Значение коэффициента 6 = -0.040929705568713365\n",
      "Значение коэффициента 7 = 69.37023620039626\n",
      "Значение коэффициента 8 = -0.002904324503613857\n",
      "Значение коэффициента 9 = 0.018524295725232436\n",
      "Значение коэффициента 10 = -0.0298134573205724\n",
      "Значение коэффициента 11 = 18.599250665517893\n",
      "Значение коэффициента 12 = 39.61772029431595\n",
      "Значение коэффициента 13 = 0.004500495326442564\n",
      "Значение коэффициента 14 = 3.09798744768487\n",
      "Значение коэффициента 15 = -0.04622266186828659\n",
      "Значение коэффициента 16 = 26.36629455175511\n",
      "Значение коэффициента 17 = -0.03203759089178685\n",
      "Значение коэффициента 18 = 86.80807090107545\n",
      "Значение коэффициента 19 = 0.036991545830437976\n",
      "Значение коэффициента 20 = 0.014490461456812537\n"
     ]
    }
   ],
   "source": [
    "model = Ridge()\n",
    "model.fit(X, y)\n",
    "for index, coef in enumerate(model.coef_):\n",
    "    print(f'Значение коэффициента {index + 1} = {coef}')"
   ]
  },
  {
   "cell_type": "code",
   "execution_count": 9,
   "id": "b8f31ce3-f338-43a2-ae57-6aa113c1dd3d",
   "metadata": {},
   "outputs": [],
   "source": [
    "y_pred = model.predict(X_test)"
   ]
  },
  {
   "cell_type": "code",
   "execution_count": 10,
   "id": "d8eeddfe-3dac-4f90-a6a0-5bdb107a0e1f",
   "metadata": {},
   "outputs": [
    {
     "data": {
      "text/plain": [
       "0.8202025520549351"
      ]
     },
     "execution_count": 10,
     "metadata": {},
     "output_type": "execute_result"
    }
   ],
   "source": [
    "mean_absolute_error(y_test, y_pred)"
   ]
  },
  {
   "cell_type": "code",
   "execution_count": null,
   "id": "448fd337-07b4-4f1e-a391-4346bd88a748",
   "metadata": {},
   "outputs": [],
   "source": []
  }
 ],
 "metadata": {
  "kernelspec": {
   "display_name": "Python 3 (ipykernel)",
   "language": "python",
   "name": "python3"
  },
  "language_info": {
   "codemirror_mode": {
    "name": "ipython",
    "version": 3
   },
   "file_extension": ".py",
   "mimetype": "text/x-python",
   "name": "python",
   "nbconvert_exporter": "python",
   "pygments_lexer": "ipython3",
   "version": "3.12.8"
  }
 },
 "nbformat": 4,
 "nbformat_minor": 5
}
